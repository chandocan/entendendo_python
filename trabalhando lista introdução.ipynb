{
 "metadata": {
  "language_info": {
   "codemirror_mode": {
    "name": "ipython",
    "version": 3
   },
   "file_extension": ".py",
   "mimetype": "text/x-python",
   "name": "python",
   "nbconvert_exporter": "python",
   "pygments_lexer": "ipython3",
   "version": "3.9.1-final"
  },
  "orig_nbformat": 2,
  "kernelspec": {
   "name": "python3",
   "display_name": "Python 3.9.1 64-bit",
   "metadata": {
    "interpreter": {
     "hash": "a3a7b21509de3246b543699b0c8962ce0db4b67e1160efd6852a39f9576e10a8"
    }
   }
  }
 },
 "nbformat": 4,
 "nbformat_minor": 2,
 "cells": [
  {
   "cell_type": "code",
   "execution_count": 1,
   "metadata": {},
   "outputs": [
    {
     "output_type": "stream",
     "name": "stdout",
     "text": [
      "[0, 1, 2, 3, 4]\n<class 'int'>\n<class 'list'>\n"
     ]
    }
   ],
   "source": [
    "# cria uma lista c0om a quantidade determinada no range \n",
    "lista = list(range(5))\n",
    "print(lista)\n",
    "# do tipo inteira\n",
    "print(type(lista[1]))\n",
    "print(type(lista))\n",
    "lista2 = ['ana', 'karla','sabrina']"
   ]
  },
  {
   "cell_type": "code",
   "execution_count": 2,
   "metadata": {},
   "outputs": [
    {
     "output_type": "stream",
     "name": "stdout",
     "text": [
      "[0, 1, 2, 3, 4, 'ana', 'karla', 'sabrina']\nsabrina recebeu elemento 3\nsabrina\n"
     ]
    }
   ],
   "source": [
    "r = lista + lista2\n",
    "print(r)\n",
    "# da para encachar esse elementos em qualquer lugar num print\n",
    "print(f'{r[7]} receneu elemento {r[3]}')\n",
    "# print do ultimo valor\n",
    "print(r[-1])"
   ]
  },
  {
   "cell_type": "code",
   "execution_count": 3,
   "metadata": {},
   "outputs": [
    {
     "output_type": "stream",
     "name": "stdout",
     "text": [
      "True\n0\n1\n2\n3\n4\nana\nkarla\nsabrina\n"
     ]
    }
   ],
   "source": [
    "# para usa isso aqui tem que esta escrito da mesma forma é se tiver espaço tambem \n",
    "# tem que ter os espaço contam como nome na string , mesmo que in(esta) \n",
    "print('sabrina' in r)\n",
    "# estou lendo os intens de uma lista\n",
    "# como se tivesse pecorrendo a lista para saber os itens interando interação com r é x\n",
    "for x in r:\n",
    "    print(x)"
   ]
  },
  {
   "cell_type": "code",
   "execution_count": 4,
   "metadata": {},
   "outputs": [
    {
     "output_type": "stream",
     "name": "stdout",
     "text": [
      "A lista tem po tamaho de  8 elementos\n0\n\n1\n\n2\n\n3\n\n4\n\nana\n\nkarla\n\nsabrina\n\ntotal de elementos  8\n"
     ]
    }
   ],
   "source": [
    "# tamanho da lista\n",
    "print('A lista tem po tamaho de ',len(r), 'elementos')\n",
    "for i in r:\n",
    "    print(i)\n",
    "    print( )\n",
    "print('total de elementos ',len(r))"
   ]
  },
  {
   "cell_type": "code",
   "execution_count": 5,
   "metadata": {},
   "outputs": [
    {
     "output_type": "stream",
     "name": "stdout",
     "text": [
      "ana\njose\ndayse\n"
     ]
    }
   ],
   "source": [
    "# usei um range para interação de uma lista h com a variavel i para pecorre com range\n",
    "h = ['ana', 'jose', 'dayse']\n",
    "for i in range(3):\n",
    "    print(h[i])"
   ]
  },
  {
   "cell_type": "code",
   "execution_count": 6,
   "metadata": {},
   "outputs": [
    {
     "output_type": "stream",
     "name": "stdout",
     "text": [
      "2\n3\n4\n11\n21\n"
     ]
    }
   ],
   "source": [
    "# se sabemos o tamanho da para fazer uma soma nos elementos\n",
    "k = [1,2,3,10,20]\n",
    "for i in range(len(k)):\n",
    "    # somando todos os elementos com + 1\n",
    "    k[i] += 1\n",
    "    print(k[i])"
   ]
  },
  {
   "cell_type": "code",
   "execution_count": 7,
   "metadata": {},
   "outputs": [
    {
     "output_type": "stream",
     "name": "stdout",
     "text": [
      "soma total =  41\n"
     ]
    }
   ],
   "source": [
    "# soma todos os elementos da lista colocada na variava_soma abaixo\n",
    "variavel_soma = 0\n",
    "for i in range(len(k)):\n",
    "    #variavel_soma = variavel_soma + k[i]\n",
    "    variavel_soma += k[i]\n",
    "# somou todos os elementos da lista\n",
    "print('soma total = ',variavel_soma)"
   ]
  },
  {
   "cell_type": "code",
   "execution_count": 8,
   "metadata": {},
   "outputs": [
    {
     "output_type": "stream",
     "name": "stdout",
     "text": [
      "['a', 'b', 'c']\nretirou o b\n['a', 'c']\n"
     ]
    }
   ],
   "source": [
    "# para remover os itens da lista é não guarda\n",
    "t = ['a' , 'b', 'c']\n",
    "print(t)\n",
    "print('retirou o b')\n",
    "del t[1]\n",
    "print(t)"
   ]
  },
  {
   "cell_type": "code",
   "execution_count": 9,
   "metadata": {},
   "outputs": [
    {
     "output_type": "stream",
     "name": "stdout",
     "text": [
      "removel b é o elemento c ficando só o elemento a\n['a']\n"
     ]
    }
   ],
   "source": [
    "# para apagar mais de um item da lista \n",
    "del t[1:2]\n",
    "print('removel b é o elemento c ficando só o elemento a')\n",
    "print(t)"
   ]
  },
  {
   "cell_type": "code",
   "execution_count": 10,
   "metadata": {},
   "outputs": [
    {
     "output_type": "stream",
     "name": "stdout",
     "text": [
      "A lista ficou assim no final\n['a', 'c']\nexibiu o elemento removido aqui  b\n"
     ]
    }
   ],
   "source": [
    "# usando pop\n",
    "# se não colocar nada no parentece do pop ele apaga o ultimo elemento\n",
    "# ele pode guadar o que apagou\n",
    "b = ['a','b','c']\n",
    "x = b.pop(1)\n",
    "print('A lista ficou assim no final')\n",
    "print(b)\n",
    "print('exibiu o elemento removido aqui ',x)"
   ]
  },
  {
   "cell_type": "code",
   "execution_count": 11,
   "metadata": {},
   "outputs": [
    {
     "output_type": "stream",
     "name": "stdout",
     "text": [
      "['ricota', 'gorgonzola']\n"
     ]
    }
   ],
   "source": [
    "# pode remover por valor \n",
    "\n",
    "queijo = ['coalho','ricota','gorgonzola']\n",
    "queijo.remove('coalho')\n",
    "print(queijo)\n"
   ]
  },
  {
   "cell_type": "code",
   "execution_count": null,
   "metadata": {},
   "outputs": [],
   "source": []
  }
 ]
}
